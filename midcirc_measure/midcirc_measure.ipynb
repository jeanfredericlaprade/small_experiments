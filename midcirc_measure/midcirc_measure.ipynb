{
 "metadata": {
  "language_info": {
   "codemirror_mode": {
    "name": "ipython",
    "version": 3
   },
   "file_extension": ".py",
   "mimetype": "text/x-python",
   "name": "python",
   "nbconvert_exporter": "python",
   "pygments_lexer": "ipython3",
   "version": "3.7.7-final"
  },
  "orig_nbformat": 2,
  "kernelspec": {
   "name": "python3",
   "display_name": "Python 3.7.7 64-bit ('qiskit': conda)",
   "metadata": {
    "interpreter": {
     "hash": "474542c632b3b5575cf1985516977b2f50bd9470a0ca692a793b231516f2d542"
    }
   }
  }
 },
 "nbformat": 4,
 "nbformat_minor": 2,
 "cells": [
  {
   "cell_type": "code",
   "execution_count": null,
   "metadata": {},
   "outputs": [],
   "source": [
    "import numpy as np\n",
    "import matplotlib.pyplot as plt\n",
    "\n",
    "import qiskit\n",
    "from qiskit import QuantumCircuit, Aer, transpile, IBMQ, execute, schedule\n",
    "from qiskit.test.mock.backends.toronto.fake_toronto import FakeToronto\n",
    "from qiskit.test.mock.backends.rome.fake_rome import FakeRome"
   ]
  },
  {
   "cell_type": "code",
   "execution_count": null,
   "metadata": {},
   "outputs": [],
   "source": [
    "IBMQ.load_account()\n",
    "provider = IBMQ.get_provider(hub='ibm-q-sherbrooke')"
   ]
  },
  {
   "cell_type": "code",
   "execution_count": null,
   "metadata": {},
   "outputs": [],
   "source": [
    "qasm_sim = provider.get_backend('ibmq_qasm_simulator')\n",
    "sydney = provider.get_backend('ibmq_sydney')"
   ]
  },
  {
   "cell_type": "code",
   "execution_count": null,
   "metadata": {},
   "outputs": [],
   "source": [
    "syd_conf = sydney.configuration()\n",
    "syd_prop = sydney.properties()"
   ]
  },
  {
   "source": [
    "## One quibit circuit"
   ],
   "cell_type": "markdown",
   "metadata": {}
  },
  {
   "cell_type": "code",
   "execution_count": null,
   "metadata": {},
   "outputs": [],
   "source": [
    "def x_measure():\n",
    "    qc = QuantumCircuit(1,1)\n",
    "    qc.h(0)\n",
    "    qc.measure()\n",
    "    qc.h(0)\n",
    "    return qc\n",
    "xmeas = x_measure()\n",
    "xmeas_native = transpile(qc, sydney)\n",
    "xmeas_sched = schedule(xmeas_native, sydney)"
   ]
  },
  {
   "cell_type": "code",
   "execution_count": null,
   "metadata": {},
   "outputs": [],
   "source": [
    "# Find highest single-qubit gate error rate\n",
    "highest = 0\n",
    "qubit = None\n",
    "for q in range(syd_conf.num_qubits):\n",
    "    current = syd_prop.gate_error('sx', q)\n",
    "    if highest < current:\n",
    "        qubit = q\n",
    "        highest = current\n",
    "print(f'Highest single-qubit gate error rate: qubit {qubit}')"
   ]
  },
  {
   "cell_type": "code",
   "execution_count": null,
   "metadata": {},
   "outputs": [],
   "source": [
    "slots = 3\n",
    "circuits = []\n",
    "\n",
    "meas_circ = QuantumCircuit(1,1)\n",
    "meas_circ.measure(0,0)\n",
    "meas_sched = schedule(meas_circ, sydney)\n",
    "\n",
    "for i in range(slots):\n",
    "    qc = QuantumCircuit(1,1)\n",
    "    qc.h(0)\n",
    "    sched = schedule(transpile(qc, sydney), sydney)\n",
    "    for _ in range(i):\n",
    "        sched = sched.append(xmeas_sched)\n",
    "    delayed_meas = meas_sched.shift((slots-i-1) * xmeas_sched.duration)\n",
    "    sched = sched.append(delayed_meas)\n",
    "    circuits.append(sched)"
   ]
  },
  {
   "cell_type": "code",
   "execution_count": null,
   "metadata": {},
   "outputs": [],
   "source": [
    "job = execute(circuits, sydney, initial_layout=[qubit]).result()"
   ]
  },
  {
   "cell_type": "code",
   "execution_count": null,
   "metadata": {},
   "outputs": [],
   "source": [
    "syd_conf.to_dict()['qubit_lo_range']"
   ]
  }
 ]
}