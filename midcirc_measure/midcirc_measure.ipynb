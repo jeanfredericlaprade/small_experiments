{
 "metadata": {
  "language_info": {
   "codemirror_mode": {
    "name": "ipython",
    "version": 3
   },
   "file_extension": ".py",
   "mimetype": "text/x-python",
   "name": "python",
   "nbconvert_exporter": "python",
   "pygments_lexer": "ipython3",
   "version": "3.7.7-final"
  },
  "orig_nbformat": 2,
  "kernelspec": {
   "name": "python3",
   "display_name": "Python 3.7.7 64-bit ('qiskit': conda)",
   "metadata": {
    "interpreter": {
     "hash": "474542c632b3b5575cf1985516977b2f50bd9470a0ca692a793b231516f2d542"
    }
   }
  }
 },
 "nbformat": 4,
 "nbformat_minor": 2,
 "cells": [
  {
   "cell_type": "code",
   "execution_count": null,
   "metadata": {},
   "outputs": [],
   "source": [
    "import numpy as np\n",
    "import matplotlib.pyplot as plt\n",
    "import pandas as pd\n",
    "import seaborn as sns\n",
    "\n",
    "import qiskit\n",
    "from qiskit import QuantumCircuit, Aer, transpile, IBMQ, execute, schedule\n",
    "from qiskit.test.mock.backends.toronto.fake_toronto import FakeToronto\n",
    "from qiskit.test.mock.backends.rome.fake_rome import FakeRome"
   ]
  },
  {
   "cell_type": "code",
   "execution_count": null,
   "metadata": {},
   "outputs": [],
   "source": [
    "IBMQ.load_account()\n",
    "provider = IBMQ.get_provider(hub='ibm-q-sherbrooke')"
   ]
  },
  {
   "cell_type": "code",
   "execution_count": null,
   "metadata": {},
   "outputs": [],
   "source": [
    "qasm_sim = provider.get_backend('ibmq_qasm_simulator')\n",
    "sydney = provider.get_backend('ibmq_sydney')"
   ]
  },
  {
   "cell_type": "code",
   "execution_count": null,
   "metadata": {},
   "outputs": [],
   "source": [
    "syd_conf = sydney.configuration()\n",
    "syd_prop = sydney.properties()"
   ]
  },
  {
   "cell_type": "code",
   "execution_count": null,
   "metadata": {},
   "outputs": [],
   "source": [
    "# Find highest single-qubit gate error rate\n",
    "highest_e = 0\n",
    "qubit_e = None\n",
    "lowest_t1 = 1\n",
    "qubit_t1 = None\n",
    "\n",
    "for q in range(syd_conf.num_qubits):\n",
    "    current_e = syd_prop.gate_error('sx', q)\n",
    "    current_t1 = syd_prop.t1(q)\n",
    "    if highest_e < current_e:\n",
    "        qubit_e = q\n",
    "        highest_e = current_e\n",
    "    if lowest_t1 > current_t1:\n",
    "        qubit_t1 = q\n",
    "        lowest_t1 = current_t1\n",
    "print(f'Highest single-qubit gate error rate: qubit {qubit_e}')\n",
    "print(f'Lowest T1: qubit {qubit_t1}')\n"
   ]
  },
  {
   "cell_type": "code",
   "execution_count": null,
   "metadata": {},
   "outputs": [],
   "source": [
    "print('\\n'.join([f'T1 for highest single-qubit error: {syd_prop.t1(qubit_e)}', f'Lowest T1: {syd_prop.t1(qubit_t1)}']))"
   ]
  },
  {
   "source": [
    "## One quibit circuit"
   ],
   "cell_type": "markdown",
   "metadata": {}
  },
  {
   "cell_type": "code",
   "execution_count": null,
   "metadata": {},
   "outputs": [],
   "source": [
    "def x_measure():\n",
    "    qc = QuantumCircuit(1)\n",
    "    qc.h(0)\n",
    "    qc.measure_all()\n",
    "    qc.h(0)\n",
    "    return qc\n",
    "xmeas = x_measure()\n",
    "# Using qubit with highest single-qubit error rate\n",
    "xmeas_native_e = transpile(xmeas, sydney, initial_layout=[qubit_e])\n",
    "# Using qubit with lowest T1 coherence time\n",
    "xmeas_native_t1 = transpile(xmeas, sydney, initial_layout=[qubit_t1])\n",
    "xmeas_sched = schedule(xmeas_native_e, sydney)\n",
    "print(f'Duration of the mid-circuit X-measurement: {xmeas_sched.duration}[dt]')"
   ]
  },
  {
   "cell_type": "code",
   "execution_count": null,
   "metadata": {},
   "outputs": [],
   "source": [
    "# What is dt for Sydney?\n",
    "print('\\n'.join([f'Qubit drive channel: {syd_conf.dt}s', f'Qubit measurement drive channel: {syd_conf.dtm}s']))"
   ]
  },
  {
   "cell_type": "code",
   "execution_count": null,
   "metadata": {},
   "outputs": [],
   "source": [
    "slots = 10\n",
    "\n",
    "def get_circuit_list(q, xmeas):\n",
    "    circuits = []\n",
    "\n",
    "    for i in range(slots):\n",
    "        qc = QuantumCircuit(1,1)\n",
    "        qc.h(0)\n",
    "        qc = transpile(qc, sydney, initial_layout=[q])\n",
    "        \n",
    "        for _ in range(i):\n",
    "            qc = qc.compose(xmeas)\n",
    "        qc.delay((slots-i-1) * xmeas_sched.duration, qarg=q)\n",
    "        qc.measure(q, 0)\n",
    "        circuits.append(qc)\n",
    "    return circuits"
   ]
  },
  {
   "source": [
    "## Execute on qasm_simulator"
   ],
   "cell_type": "markdown",
   "metadata": {}
  },
  {
   "cell_type": "code",
   "execution_count": null,
   "metadata": {},
   "outputs": [],
   "source": [
    "# Run the same circuits 30 times in order to have statistical average\n",
    "job = execute(get_circuit_list(qubit_e, xmeas_native_e)*30, qasm_sim, backend_properties=syd_prop, optimization_level=0, shots=4096)\n",
    "job.job_id()"
   ]
  },
  {
   "cell_type": "code",
   "execution_count": null,
   "metadata": {},
   "outputs": [],
   "source": [
    "res = provider.backends.retrieve_job('605b7a6811fac48b97943b63').result()\n",
    "\n",
    "sim_ratio = [c['1']/c['0'] for c in res.get_counts()]\n",
    "sim_df = pd.DataFrame(columns=['number_meas', 'ratio'])\n",
    "for i in range(len(sim_ratio)):\n",
    "    entry = {'number_meas': i%10, 'ratio': sim_ratio[i]}\n",
    "    sim_df = sim_df.append(entry, ignore_index=True)\n",
    "sim_df = sim_df.astype({'number_meas': int})"
   ]
  },
  {
   "source": [
    "## Execute on ibmq_sydney backend"
   ],
   "cell_type": "markdown",
   "metadata": {}
  },
  {
   "source": [
    "### Circuit using qubit with highest single-qubit error rate"
   ],
   "cell_type": "markdown",
   "metadata": {}
  },
  {
   "cell_type": "code",
   "execution_count": null,
   "metadata": {},
   "outputs": [],
   "source": [
    "job = execute(get_circuit_list(qubit_e, xmeas_native_e), sydney, shots=4096, optimization_level=0)\n",
    "job.job_id()"
   ]
  },
  {
   "cell_type": "code",
   "execution_count": null,
   "metadata": {},
   "outputs": [],
   "source": [
    "res_e = provider.backends.retrieve_job('605b5dd46b0b890f14adb373').result()\n",
    "\n",
    "syd_ratio_e = [c['1']/c['0'] for c in res_e.get_counts()]"
   ]
  },
  {
   "source": [
    "### Circuit using qubit with lowest T1 coherence time"
   ],
   "cell_type": "markdown",
   "metadata": {}
  },
  {
   "cell_type": "code",
   "execution_count": null,
   "metadata": {},
   "outputs": [],
   "source": [
    "job = execute(get_circuit_list(qubit_t1, xmeas_native_t1), sydney, shots=4096, optimization_level=0)\n",
    "job.job_id()"
   ]
  },
  {
   "cell_type": "code",
   "execution_count": null,
   "metadata": {},
   "outputs": [],
   "source": [
    "res_t1 = provider.backends.retrieve_job('605b9edf2b8d410b72652de2').result()\n",
    "\n",
    "syd_ratio_t1 = [c['1']/c['0'] for c in res_t1.get_counts()]"
   ]
  },
  {
   "source": [
    "## Generating figure"
   ],
   "cell_type": "markdown",
   "metadata": {}
  },
  {
   "cell_type": "code",
   "execution_count": null,
   "metadata": {},
   "outputs": [],
   "source": [
    "fig, axs = plt.subplots(figsize=(12,8))\n",
    "\n",
    "plt.title(\"Reduction of qubit relaxation with mid-circuit measurements\", fontdict={'fontsize': 18})\n",
    "\n",
    "sns.lineplot(x=\"number_meas\", y=\"ratio\", data=sim_df, label='qasm simulator')\n",
    "\n",
    "axs.plot(list(range(slots)), syd_ratio_e, label='highest single-qubit gate error', color='purple', marker='o', linestyle='dotted', linewidth=2, markersize=4)\n",
    "axs.plot(list(range(slots)), syd_ratio_t1, label='lowest T1', color='plum', marker='o', linestyle='dotted', linewidth=2, markersize=4)\n",
    "axs.grid(True)\n",
    "axs.legend()\n",
    "axs.set_xlabel('Number of mid-circuit measurements')\n",
    "axs.set_ylabel('Ratio of 1-counts over 0-counts')\n",
    "axs.set_xlim(0, 9)\n",
    "\n",
    "fig.tight_layout()\n",
    "plt.savefig('mid_circuit_meas')"
   ]
  },
  {
   "source": [
    "## Notes:\n",
    "\n",
    "* When no mid-circuit measurement is made (correspond to $x=0$), the channel is idle for $2.19e+05[dt]$. Since the qubit drive channel  time step is $2.22\\text{e}-10s$, this corresponds to $48.7\\mu s$.\n",
    "* For the _highest single-qubit error rate_ (qubit 12), $T1 = 72.4\\mu s$\n",
    "* For the _lowest T1_ (qubit 0), $T1 = 72.4\\mu s$\n",
    "* Interesting to see that when no idle gate is present (so no time to relax, corresponds to $x=9$), the circuit executed on the qubit with the lowest gate error rate is the one that performs the best. As soon as the circuit is idle for some time, relaxation errors dominates.\n"
   ],
   "cell_type": "markdown",
   "metadata": {}
  }
 ]
}