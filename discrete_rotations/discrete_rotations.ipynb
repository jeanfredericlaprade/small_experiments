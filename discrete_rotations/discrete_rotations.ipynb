{
 "metadata": {
  "language_info": {
   "codemirror_mode": {
    "name": "ipython",
    "version": 3
   },
   "file_extension": ".py",
   "mimetype": "text/x-python",
   "name": "python",
   "nbconvert_exporter": "python",
   "pygments_lexer": "ipython3",
   "version": "3.7.7-final"
  },
  "orig_nbformat": 2,
  "kernelspec": {
   "name": "python3",
   "display_name": "Python 3",
   "language": "python"
  }
 },
 "nbformat": 4,
 "nbformat_minor": 2,
 "cells": [
  {
   "cell_type": "code",
   "execution_count": null,
   "metadata": {},
   "outputs": [],
   "source": [
    "import numpy as np\n",
    "import matplotlib.pyplot as plt\n",
    "\n",
    "import qiskit\n",
    "from qiskit import QuantumCircuit, Aer, transpile, IBMQ, execute"
   ]
  },
  {
   "cell_type": "code",
   "execution_count": null,
   "metadata": {},
   "outputs": [],
   "source": [
    "IBMQ.load_account()\n",
    "provider = IBMQ.get_provider(hub='ibm-q-sherbrooke')"
   ]
  },
  {
   "cell_type": "code",
   "execution_count": null,
   "metadata": {},
   "outputs": [],
   "source": [
    "statevector_sim = Aer.get_backend('statevector_simulator')\n",
    "qasm_sim = provider.get_backend('ibmq_qasm_simulator')\n",
    "local_qasm_sim = Aer.get_backend('qasm_simulator')\n",
    "sydney = provider.get_backend('ibmq_sydney')"
   ]
  },
  {
   "cell_type": "code",
   "execution_count": null,
   "metadata": {},
   "outputs": [],
   "source": [
    "PI = np.pi\n",
    "SEED = 7531\n",
    "ZERO_STATE = 0\n",
    "XY_STEPS = 20\n",
    "Z_STEPS = 40\n",
    "SHOTS = 8192\n",
    "\n",
    "unit_rotation = PI/20\n",
    "xy_rotations = [unit_rotation * i for i in range(XY_STEPS)]\n",
    "z_rotations = [unit_rotation * i for i in range(Z_STEPS)]"
   ]
  },
  {
   "cell_type": "code",
   "execution_count": null,
   "metadata": {},
   "outputs": [],
   "source": [
    "def create_xrot_circuit(angle):\n",
    "    qc = QuantumCircuit(1)\n",
    "    qc.rx(angle, 0)\n",
    "    return qc\n",
    "\n",
    "def create_yrot_circuit(angle):\n",
    "    qc = QuantumCircuit(1)\n",
    "    qc.ry(angle, 0)\n",
    "    return qc\n",
    "\n",
    "def create_zrot_circuit(angle):\n",
    "    qc = QuantumCircuit(1)\n",
    "    qc.h(0)\n",
    "    qc.rz(angle, 0)\n",
    "    qc.h(0)\n",
    "    return qc\n",
    "\n",
    "xrot_circuits = list(map(lambda r: create_xrot_circuit(r), xy_rotations))\n",
    "yrot_circuits = list(map(lambda r: create_yrot_circuit(r), xy_rotations))\n",
    "zrot_circuits = list(map(lambda r: create_zrot_circuit(r), z_rotations))"
   ]
  },
  {
   "source": [
    "## Compute the expected 0 state"
   ],
   "cell_type": "markdown",
   "metadata": {}
  },
  {
   "cell_type": "code",
   "execution_count": null,
   "metadata": {},
   "outputs": [],
   "source": [
    "states = execute(xrot_circuits + yrot_circuits + zrot_circuits, statevector_sim).result()"
   ]
  },
  {
   "cell_type": "code",
   "execution_count": null,
   "metadata": {},
   "outputs": [],
   "source": [
    "zero_ampl = [r.data.statevector[ZERO_STATE] for r in states.results]\n",
    "zero_prob = [np.abs(a)**2 for a in zero_ampl]\n",
    "xrot_zero_prob = zero_prob[:len(xy_rotations)]\n",
    "yrot_zero_prob = zero_prob[len(xy_rotations):-len(z_rotations)]\n",
    "zrot_zero_prob = zero_prob[-len(z_rotations):]"
   ]
  },
  {
   "source": [
    "## Compute with QASM simulator -- no noise"
   ],
   "cell_type": "markdown",
   "metadata": {}
  },
  {
   "cell_type": "code",
   "execution_count": null,
   "metadata": {},
   "outputs": [],
   "source": [
    "for c in xrot_circuits + yrot_circuits + zrot_circuits:\n",
    "    c.measure_all()"
   ]
  },
  {
   "cell_type": "code",
   "execution_count": null,
   "metadata": {},
   "outputs": [],
   "source": [
    "results = execute(xrot_circuits + yrot_circuits + zrot_circuits,\n",
    "                  local_qasm_sim,\n",
    "                  optimization_level=0, \n",
    "                  seed_simulator=SEED,\n",
    "                  shots=SHOTS).result()"
   ]
  },
  {
   "cell_type": "code",
   "execution_count": null,
   "metadata": {},
   "outputs": [],
   "source": [
    "results = provider.backends.retrieve_job('60393b196390d14a08859f53').result()"
   ]
  },
  {
   "cell_type": "code",
   "execution_count": null,
   "metadata": {},
   "outputs": [],
   "source": [
    "xrot_qasm_samp = [r['0']/SHOTS for r in results.get_counts()[:len(xy_rotations)]]\n",
    "yrot_qasm_samp = [r['0']/SHOTS for r in results.get_counts()[len(xy_rotations):-len(z_rotations)]]\n",
    "zrot_qasm_samp = [r['0']/SHOTS if '0' in r.keys() else 0. for r in results.get_counts()[-len(z_rotations):]]"
   ]
  },
  {
   "source": [
    "## Qubit with lowest single-qubit gate error rate\n",
    "\n",
    "At the time of this experiment, qubit 14"
   ],
   "cell_type": "markdown",
   "metadata": {}
  },
  {
   "cell_type": "code",
   "execution_count": null,
   "metadata": {},
   "outputs": [],
   "source": [
    "results = provider.backends.retrieve_job('60393b392f62bf4e3bc6a9e6').result()"
   ]
  },
  {
   "cell_type": "code",
   "execution_count": null,
   "metadata": {},
   "outputs": [],
   "source": [
    "xrot_sydney_best = [r['0']/SHOTS for r in results.get_counts()[:len(xy_rotations)]]\n",
    "yrot_sydney_best = [r['0']/SHOTS for r in results.get_counts()[len(xy_rotations):-len(z_rotations)]]\n",
    "zrot_sydney_best = [r['0']/SHOTS if '0' in r.keys() else 0. for r in results.get_counts()[-len(z_rotations):]]"
   ]
  },
  {
   "source": [
    "## Qubit with highest single-qubit gate error rate\n",
    "\n",
    "At the time of this experiment, qubit 14"
   ],
   "cell_type": "markdown",
   "metadata": {}
  },
  {
   "cell_type": "code",
   "execution_count": null,
   "metadata": {},
   "outputs": [],
   "source": [
    "results = provider.backends.retrieve_job('60395a94fcca6bbd3c4c57b0').result()"
   ]
  },
  {
   "cell_type": "code",
   "execution_count": null,
   "metadata": {},
   "outputs": [],
   "source": [
    "xrot_sydney_worst = [r['0']/SHOTS for r in results.get_counts()[:len(xy_rotations)]]\n",
    "yrot_sydney_worst = [r['0']/SHOTS for r in results.get_counts()[len(xy_rotations):-len(z_rotations)]]\n",
    "zrot_sydney_worst = [r['0']/SHOTS if '0' in r.keys() else 0. for r in results.get_counts()[-len(z_rotations):]]"
   ]
  },
  {
   "cell_type": "code",
   "execution_count": null,
   "metadata": {},
   "outputs": [],
   "source": [
    "xlabels = ['RX angle (rad)','RY angle (rad)','RZ angle (rad)']\n",
    "ylabels = ['Probability of measuring\\n0 state (Z-basis)', 'Probability of measuring\\n0 state (Z-basis)', 'Probability of measuring\\n0 state (X-basis)']\n",
    "xdata = [xy_rotations, xy_rotations, z_rotations]\n",
    "ydata = [[xrot_zero_prob, xrot_qasm_samp, xrot_sydney_best, xrot_sydney_worst],\n",
    "         [yrot_zero_prob, yrot_qasm_samp, yrot_sydney_best, yrot_sydney_worst],\\\n",
    "         [zrot_zero_prob, zrot_qasm_samp, zrot_sydney_best, zrot_sydney_worst], ]\n",
    "\n",
    "fig, axs = plt.subplots(3, figsize=(12,12))\n",
    "\n",
    "for i in range(3):\n",
    "    axs[i].plot(xdata[i], ydata[i][0], label='statevector simulator', color='midnightblue', marker='o', linestyle='dotted', linewidth=2, markersize=4)\n",
    "    axs[i].plot(xdata[i], ydata[i][1], label='qasm simulator', color='slateblue', marker='o', linestyle='dotted', linewidth=2, markersize=4)\n",
    "    axs[i].plot(xdata[i], ydata[i][2], label='sydney noisiest gate', color='purple', marker='o', linestyle='dotted', linewidth=2, markersize=4)\n",
    "    axs[i].plot(xdata[i], ydata[i][3], label='sydney best quality gate', color='plum', marker='o', linestyle='dotted', linewidth=2, markersize=4)\n",
    "    axs[i].set_xlim(0, xdata[i][-1])\n",
    "    axs[i].set_ylim(0, 1.05)\n",
    "    axs[i].set_xlabel(xlabels[i])\n",
    "    axs[i].set_ylabel(ylabels[i])\n",
    "    axs[i].grid(True)\n",
    "    axs[i].legend()\n",
    "\n",
    "fig.tight_layout()\n",
    "plt.savefig('discrete_rotations')"
   ]
  },
  {
   "cell_type": "code",
   "execution_count": null,
   "metadata": {},
   "outputs": [],
   "source": []
  }
 ]
}