{
 "cells": [
  {
   "cell_type": "code",
   "execution_count": null,
   "metadata": {},
   "outputs": [],
   "source": [
    "import matplotlib.pyplot as plt\n",
    "import numpy as np\n",
    "import os\n",
    "from pathlib import Path\n",
    "import scipy.optimize as optimize\n",
    "import sys\n",
    "\n",
    "from qiskit import Aer, execute, QuantumCircuit\n",
    "from qiskit.circuit import Parameter, ParameterVector\n",
    "from qiskit.opflow import I, X, Y, Z\n",
    "from qiskit.opflow import CircuitOp, SummedOp, StateFn\n",
    "from qiskit.opflow import PauliExpectation, PauliTrotterEvolution, Suzuki\n",
    "from qiskit.quantum_info import Statevector\n",
    "\n",
    "cwd = Path(os.getcwd())\n",
    "sys.path.append(cwd)\n",
    "\n",
    "from main import *\n"
   ]
  },
  {
   "cell_type": "code",
   "execution_count": null,
   "metadata": {},
   "outputs": [],
   "source": [
    "def get_heisenberg_int(nb_qubits, j, periodic=True):\n",
    "\n",
    "    local_terms = []\n",
    "    for op in [X, Y, Z]:\n",
    "        for i in range(nb_qubits-1):\n",
    "            local_terms.append((I^i)^(op^2)^(I^(nb_qubits - i - 2)))\n",
    "        if periodic:\n",
    "            local_terms.append(op^(I^(nb_qubits - 2))^op)\n",
    "\n",
    "    return j*SummedOp(local_terms)\n",
    "\n",
    "def get_compact_2_qubits_unitary(param):\n",
    "    \"\"\"\n",
    "    Voir https://journals.aps.org/pra/pdf/10.1103/PhysRevA.69.032315\n",
    "    \"\"\"\n",
    "    b = np.pi / 2 - 2 * param\n",
    "    a = 2 * param - np.pi / 2\n",
    "\n",
    "    qc = QuantumCircuit(2)\n",
    "    qc.rz(np.pi/2, 1)\n",
    "    qc.cx(1, 0)\n",
    "    qc.rz(a, 0)\n",
    "    qc.ry(b, 1)\n",
    "    qc.cx(0, 1)\n",
    "    qc.ry(a, 1)\n",
    "    qc.cx(1, 0)\n",
    "    qc.rz(np.pi / 2, 0)\n",
    "\n",
    "    return qc\n",
    "    \n",
    "\n",
    "def get_ansatz(nb_qubits, depth):\n",
    "    nb_odd_params_per_layer = nb_qubits // 2  # following naming convention from paper,\n",
    "                                              # so odd is for entangling between qubits {(0,1),(2,3),...} :| \n",
    "    nb_even_params_per_layer = (nb_qubits - 1) // 2\n",
    "    theta_params = ParameterVector('t', depth * nb_odd_params_per_layer)\n",
    "    phi_params = ParameterVector('p', depth * nb_even_params_per_layer)\n",
    "\n",
    "    qc = QuantumCircuit(nb_qubits)\n",
    "    for l in range(depth):\n",
    "        for i in range(nb_odd_params_per_layer):\n",
    "            qc.compose(get_compact_2_qubits_unitary(theta_params[l*nb_odd_params_per_layer + i]), [2*i, 2*i+1], inplace=True)\n",
    "        for i in range(nb_even_params_per_layer):\n",
    "            qc.compose(get_compact_2_qubits_unitary(phi_params[l*nb_even_params_per_layer + i]), [2*i+1, 2*(i+1)], inplace=True)\n",
    "\n",
    "    return qc, theta_params, phi_params\n",
    "\n",
    "def get_neel_state(nb_qubits):\n",
    "    qc = QuantumCircuit(nb_qubits)\n",
    "    qc.x([2 * i + 1 for i in range(nb_qubits // 2)])\n",
    "\n",
    "    return qc\n",
    "\n",
    "def state_evolution(state, hamiltonian, tau, num_reps, trotter_order):\n",
    "    assert (state.num_qubits == hamiltonian.num_qubits)\n",
    "    t_param = Parameter('t')\n",
    "    evolution_op = (t_param * hamiltonian).exp_i()\n",
    "    trotterized_op = PauliTrotterEvolution(trotter_mode=Suzuki(order=trotter_order, reps=num_reps)).convert(evolution_op @ CircuitOp(state))\n",
    "    qc = trotterized_op.bind_parameters({t_param: tau})\n",
    "\n",
    "    return qc"
   ]
  },
  {
   "cell_type": "code",
   "execution_count": null,
   "metadata": {},
   "outputs": [],
   "source": [
    "nb_qubits = 8\n",
    "coupling = 1\n",
    "\n",
    "# Heisenberd Hamiltonian\n",
    "hamiltonian = get_heisenberg_int(nb_qubits, coupling)\n",
    "\n",
    "# Initial state to work with\n",
    "init_state = get_neel_state(nb_qubits)\n",
    "\n",
    "sv_sim = Aer.get_backend('statevector_simulator')\n",
    "u_sim = Aer.get_backend('unitary_simulator')\n",
    "\n",
    "depth_l = 16  # Value used to generate Fig. 5(a)\n",
    "anzats, t_params, p_params = get_ansatz(nb_qubits, depth_l)\n",
    "\n",
    "num_params = len(t_params) + len(p_params)\n",
    "\n",
    "tau = 2.5 / coupling\n",
    "reps= 16  # Value used to generate Fig. 5(a). Should have: (2 * depth_l + reps) < n_max\n",
    "          # where n_max is max number of Trotter steps within coherence time of the device\n",
    "order = 1\n",
    "qc_evol = state_evolution(state=init_state.compose(anzats), hamiltonian=hamiltonian, tau=tau, num_reps=reps, trotter_order=order)\n",
    "\n"
   ]
  },
  {
   "cell_type": "markdown",
   "metadata": {},
   "source": [
    "# Exact diagonalization\n",
    "\n",
    "$\\ket{\\psi (t)} = e^{-iHt}\\ket{\\psi_0}$\n",
    "\n",
    "The Hamiltonoan $H$ is not diagonal in the computational basis but we can find a transformation $U$ such that $H_W = U^\\dagger H_C U$ where $H_C$ is the Hamiltonian matrix in the computational basis and $H_W$ is the Hamiltonian in the basis that diagonalize $H_C$. Hence $H_W$ is diagonal.<br>\n",
    "The values on the diagonal of $H_W$ are the eigenvalues. The columns of the $U$ matrix are the eigenvectors.<br>\n",
    "The transformation $U$ allows to transform a vector from the $W$-basis to the $C$-basis and $U^\\dagger$ from the $C$-basis to the $W$-basis.\n",
    "\n",
    "We can therefore write $\\ket{\\psi (t)} = Ue^{-iH_Wt}U^\\dagger \\ket{\\psi_0}$.\n",
    "\n",
    "The steps that we have to follow are:\n",
    "\n",
    "1. Diagonalize $H_C$ to obtain $H_W$ and $U$\n",
    "2. For a given time $t$, compute $\\ket{\\psi (t)}$"
   ]
  },
  {
   "cell_type": "code",
   "execution_count": null,
   "metadata": {},
   "outputs": [],
   "source": [
    "# Matrix representation of the Hamiltonian\n",
    "hamiltonian_matrix = hamiltonian.to_matrix()\n",
    "\n",
    "# Diagonalization\n",
    "eigval, eigvec = np.linalg.eigh(hamiltonian_matrix)\n",
    "u = eigvec\n",
    "u_dag = np.conj(eigvec).T\n",
    "\n",
    "# time range for Fig. 5\n",
    "time = np.arange(0., 1., .01)\n",
    "\n",
    "# diagonal operators for all t\n",
    "exp_iHt = np.exp(-1.j * eigval.reshape((-1,1)) * time.reshape((1,-1)))\n",
    "\n",
    "# state vectors for all t\n",
    "init_state_sv = execute(init_state, sv_sim).result().get_statevector()\n",
    "init_state_w_basis = u_dag @ np.asarray(init_state_sv).reshape((-1,1))  # shape (2**nb_qubits, 1), e.g. (256,1)\n",
    "evol_state_w_basis = exp_iHt * init_state_w_basis  # shape (2**nb_qubits, nb_timesteps), e.g. (256,40)\n",
    "evol_state_c_basis = u @ evol_state_w_basis  # shape  (2**nb_qubits, nb_timesteps), e.g. (256,40)"
   ]
  },
  {
   "cell_type": "code",
   "execution_count": null,
   "metadata": {},
   "outputs": [],
   "source": [
    "values_x = []\n",
    "values_y = []\n",
    "values_z = []\n",
    "for t in range(len(time)):\n",
    "    # !!! Pourquoi ça ne fonctionne pas avec PauliExpectation???\n",
    "    # values_x.append(PauliExpectation().convert(~StateFn(X^nb_qubits)).eval(StateFn(evol_state_c_basis[:,t])))\n",
    "    values_x.append((evol_state_c_basis[:,t].reshape((1,-1)) @ (X^nb_qubits).to_matrix() @ evol_state_c_basis[:,t].reshape((-1,1))).item())\n",
    "    values_y.append((evol_state_c_basis[:,t].reshape((1,-1)) @ (Y^nb_qubits).to_matrix() @ evol_state_c_basis[:,t].reshape((-1,1))).item())\n",
    "    values_z.append((evol_state_c_basis[:,t].reshape((1,-1)) @ (Z^nb_qubits).to_matrix() @ evol_state_c_basis[:,t].reshape((-1,1))).item())\n",
    "plt.plot(time, values_x, '.', label='$\\langle X^{\\otimes n}\\\\rangle $')\n",
    "plt.plot(time, values_y, '--', label='$\\langle Y^{\\otimes n}\\\\rangle $')\n",
    "plt.plot(time, values_z, label='$\\langle Z^{\\otimes n}\\\\rangle $')\n",
    "plt.legend(ncol=3)"
   ]
  },
  {
   "cell_type": "markdown",
   "metadata": {},
   "source": [
    "# Optimization\n",
    "\n",
    "Cost function is $\\mathcal{C}(\\theta ) = 1 - \\mathcal{F}(t, \\boldsymbol{\\vartheta}^{(l)}) = 1 - \\big| \\langle \\psi (\\boldsymbol{\\vartheta}^{(l)})|\\psi (t) \\rangle \\big|^2 $"
   ]
  },
  {
   "cell_type": "code",
   "execution_count": null,
   "metadata": {},
   "outputs": [],
   "source": [
    "def get_current_sv(init_state, hamiltonian, current_t):\n",
    "    hamiltonian_matrix = hamiltonian.to_matrix()\n",
    "    eigval, eigvec = np.linalg.eigh(hamiltonian_matrix)\n",
    "    u = eigvec\n",
    "    u_dag = np.conj(eigvec).T\n",
    "\n",
    "    sv_sim = Aer.get_backend('statevector_simulator')\n",
    "    init_state_sv = execute(init_state, sv_sim).result().get_statevector()\n",
    "\n",
    "    return u @ np.exp(-1.j * eigval.reshape((-1, 1)) * current_t) * u_dag @ np.asarray(init_state_sv).reshape((-1, 1))\n",
    "\n",
    "\n",
    "def objective_fct(params, init_state, circuit, hamiltonian, current_t):\n",
    "\n",
    "    grounded_qc = init_state.compose(circuit).bind_parameters(params)\n",
    "    infidelity = 1 - np.linalg.norm((~StateFn(get_current_sv(init_state, hamiltonian, current_t)) @ StateFn(grounded_qc)).eval()) ** 2\n",
    "\n",
    "    return infidelity"
   ]
  },
  {
   "cell_type": "markdown",
   "metadata": {},
   "source": [
    "# Experiment's parameters"
   ]
  },
  {
   "cell_type": "code",
   "execution_count": null,
   "metadata": {},
   "outputs": [],
   "source": [
    "parameters_test = []\n",
    "def callback(xk):\n",
    "    global parameters_test\n",
    "    parameters_test.append(xk)\n",
    "    \n",
    "\n",
    "seed = 267\n",
    "np.random.seed(seed)\n",
    "init_params = np.random.random(num_params)\n",
    "\n",
    "epsilon = 1e-4  # optimization threshold for infidelity (1 - F)\n",
    "\n",
    "current_t = 2.\n",
    "num_iter = 1\n",
    "parameters_hist = []\n",
    "infidelity_hist = []\n",
    "current_iter = 0\n",
    "# res = optimize.minimize(fun=objective_fct,\n",
    "#                         args=(init_state.compose(anzats), hamiltonian, current_t),\n",
    "#                         x0=init_params,\n",
    "#                         method='L-BFGS-B',\n",
    "#                         callback=callback,\n",
    "#                         jac=None,  # gradient will be estimated using 2-point finite difference estimation with an absolute step size. \n",
    "#                         bounds=[(0, 2*np.pi)]*num_params,\n",
    "#                         options={'maxiter':num_iter,\n",
    "#                                  'gtol': 1e-05})"
   ]
  },
  {
   "cell_type": "code",
   "execution_count": null,
   "metadata": {},
   "outputs": [],
   "source": [
    "inf_hist = np.load('hist_infidelity_8_267_1000_2.0.npy', allow_pickle=True)\n",
    "params_hist = np.load('hist_params_8_267_1000_2.0.npy', allow_pickle=True)\n",
    "params_final = np.load('final_params_8_267_1000_2.0.npy', allow_pickle=True)\n",
    "plt.plot(inf_hist)"
   ]
  },
  {
   "cell_type": "code",
   "execution_count": null,
   "metadata": {},
   "outputs": [],
   "source": [
    "sv_opt = execute(init_state.compose(anzats).bind_parameters(params_final), sv_sim).result().get_statevector()\n",
    "np.round(np.asarray(sv_opt), 3)"
   ]
  },
  {
   "cell_type": "code",
   "execution_count": null,
   "metadata": {},
   "outputs": [],
   "source": [
    "objective_fct(params_hist[0,:], init_state, anzats, hamiltonian, current_t)"
   ]
  }
 ],
 "metadata": {
  "interpreter": {
   "hash": "ba0b25e8af5c74af8e2c6ced0e74862d1fdf41eb019455e1e720bbed2b1ca1d9"
  },
  "kernelspec": {
   "display_name": "Python 3.7.7 ('qiskit')",
   "language": "python",
   "name": "python3"
  },
  "language_info": {
   "codemirror_mode": {
    "name": "ipython",
    "version": 3
   },
   "file_extension": ".py",
   "mimetype": "text/x-python",
   "name": "python",
   "nbconvert_exporter": "python",
   "pygments_lexer": "ipython3",
   "version": "3.7.7"
  },
  "orig_nbformat": 4
 },
 "nbformat": 4,
 "nbformat_minor": 2
}
