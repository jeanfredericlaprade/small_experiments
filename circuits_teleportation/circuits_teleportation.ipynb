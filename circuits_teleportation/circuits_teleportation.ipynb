{
 "metadata": {
  "language_info": {
   "codemirror_mode": {
    "name": "ipython",
    "version": 3
   },
   "file_extension": ".py",
   "mimetype": "text/x-python",
   "name": "python",
   "nbconvert_exporter": "python",
   "pygments_lexer": "ipython3",
   "version": "3.7.7-final"
  },
  "orig_nbformat": 2,
  "kernelspec": {
   "name": "python3",
   "display_name": "Python 3.7.7 64-bit ('qiskit': conda)",
   "metadata": {
    "interpreter": {
     "hash": "474542c632b3b5575cf1985516977b2f50bd9470a0ca692a793b231516f2d542"
    }
   }
  }
 },
 "nbformat": 4,
 "nbformat_minor": 2,
 "cells": [
  {
   "cell_type": "code",
   "execution_count": null,
   "metadata": {},
   "outputs": [],
   "source": [
    "import numpy as np\n",
    "import matplotlib.pyplot as plt\n",
    "\n",
    "import qiskit\n",
    "from qiskit import QuantumCircuit, Aer, transpile, IBMQ, execute"
   ]
  },
  {
   "cell_type": "code",
   "execution_count": null,
   "metadata": {},
   "outputs": [],
   "source": [
    "IBMQ.load_account()\n",
    "provider = IBMQ.get_provider(hub='ibm-q-sherbrooke')"
   ]
  },
  {
   "cell_type": "code",
   "execution_count": null,
   "metadata": {},
   "outputs": [],
   "source": [
    "qasm_sim = provider.get_backend('ibmq_qasm_simulator')"
   ]
  },
  {
   "cell_type": "code",
   "execution_count": null,
   "metadata": {},
   "outputs": [],
   "source": [
    "def get_bell_pair():\n",
    "    qc = QuantumCircuit(2, name='Bell pair')\n",
    "    qc.h(0)\n",
    "    qc.cx(0,1)\n",
    "    return qc\n",
    "\n",
    "def get_bell_meas():\n",
    "    qc = QuantumCircuit(2,2, name='Bell meas')\n",
    "    qc.cx(0,1)\n",
    "    qc.h(0)\n",
    "    qc.measure([0,1], [0,1])\n",
    "    return qc\n",
    "\n",
    "def get_initialization():\n",
    "    qc = QuantumCircuit(1, name='Init')\n",
    "    qc.x(0)\n",
    "    qc.z(0)\n",
    "    return qc"
   ]
  },
  {
   "cell_type": "code",
   "execution_count": null,
   "metadata": {},
   "outputs": [],
   "source": [
    "qc = QuantumCircuit(3,3)\n",
    "\n",
    "qc.append(get_initialization(), [0])\n",
    "qc.append(get_bell_pair(),[1,2])\n",
    "qc.append(get_bell_meas(), qargs=[0,1], cargs=[0,1])\n",
    "qc.draw()"
   ]
  }
 ]
}