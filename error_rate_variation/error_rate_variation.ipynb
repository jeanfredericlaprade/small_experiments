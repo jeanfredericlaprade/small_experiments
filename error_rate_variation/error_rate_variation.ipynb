{
 "metadata": {
  "language_info": {
   "codemirror_mode": {
    "name": "ipython",
    "version": 3
   },
   "file_extension": ".py",
   "mimetype": "text/x-python",
   "name": "python",
   "nbconvert_exporter": "python",
   "pygments_lexer": "ipython3",
   "version": "3.7.7-final"
  },
  "orig_nbformat": 2,
  "kernelspec": {
   "name": "python3",
   "display_name": "Python 3.7.7 64-bit",
   "metadata": {
    "interpreter": {
     "hash": "474542c632b3b5575cf1985516977b2f50bd9470a0ca692a793b231516f2d542"
    }
   }
  }
 },
 "nbformat": 4,
 "nbformat_minor": 2,
 "cells": [
  {
   "cell_type": "code",
   "execution_count": null,
   "metadata": {},
   "outputs": [],
   "source": [
    "from datetime import datetime, timedelta\n",
    "import matplotlib.pyplot as plt\n",
    "import numpy as np\n",
    "import pandas as pd\n",
    "import seaborn as sns\n",
    "\n",
    "import qiskit\n",
    "from qiskit import IBMQ"
   ]
  },
  {
   "cell_type": "code",
   "execution_count": null,
   "metadata": {},
   "outputs": [],
   "source": [
    "IBMQ.load_account()\n",
    "provider = IBMQ.get_provider(hub='ibm-q-sherbrooke')\n",
    "sydney = provider.get_backend('ibmq_sydney')"
   ]
  },
  {
   "source": [
    "## Generate datetime list"
   ],
   "cell_type": "markdown",
   "metadata": {}
  },
  {
   "cell_type": "code",
   "execution_count": null,
   "metadata": {},
   "outputs": [],
   "source": [
    "date_queries = [datetime.now() - i*timedelta(days=1) for i in range (30)]\n",
    "syd_conf = sydney.configuration()"
   ]
  },
  {
   "cell_type": "code",
   "execution_count": null,
   "metadata": {},
   "outputs": [],
   "source": [
    "single_gates = ['id', 'sx', 'x']\n",
    "errors = ['T1', 'T2', 'readout_error']\n",
    "double_gates = ['cx']"
   ]
  },
  {
   "cell_type": "code",
   "execution_count": null,
   "metadata": {},
   "outputs": [],
   "source": [
    "df = pd.DataFrame(columns=['qubit', 'date', 'T1', 'T2', 'readout'] + single_gates)\n",
    "for day in date_queries:\n",
    "    prop = sydney.properties(datetime=day)\n",
    "    for qubit in range(syd_conf.num_qubits):\n",
    "        entry = {'qubit':qubit, 'date': day}\n",
    "        for gate in single_gates:\n",
    "            entry[gate] = prop.gate_error(gate, qubit)\n",
    "        entry['T1'] = prop.t1(qubit)\n",
    "        entry['T2'] = prop.t2(qubit)\n",
    "        entry['readout'] = prop.readout_error(qubit)\n",
    "        df = df.append(entry, ignore_index=True)\n",
    "df = df.astype({'qubit': int, 'date':int})"
   ]
  },
  {
   "cell_type": "code",
   "execution_count": null,
   "metadata": {},
   "outputs": [],
   "source": [
    "fig, axs = plt.subplots(4, figsize = (20,20))\n",
    "sns.boxplot(ax=axs[0], x=\"qubit\", y=\"x\", data=df)\n",
    "sns.boxplot(ax=axs[1], x=\"qubit\", y=\"T1\", data=df)\n",
    "sns.boxplot(ax=axs[2], x=\"qubit\", y=\"T2\", data=df)\n",
    "sns.boxplot(ax=axs[3], x=\"qubit\", y=\"readout\", data=df)\n",
    "\n",
    "axs[0].set_ylabel('Single-qubit Pauli-X error rate')\n",
    "axs[1].set_ylabel('T1 ($\\mu$s)')\n",
    "axs[2].set_ylabel('T2 ($\\mu$s)')\n",
    "axs[3].set_ylabel('Readout assignment error')\n",
    "\n",
    "fig.tight_layout()\n",
    "plt.savefig('error_distribution_sydney')"
   ]
  },
  {
   "cell_type": "code",
   "execution_count": null,
   "metadata": {},
   "outputs": [],
   "source": [
    "df_cx = pd.DataFrame(columns=['couple', 'date', 'cx'])\n",
    "for day in date_queries:\n",
    "    prop = sydney.properties(datetime=day)\n",
    "    for couple in syd_conf.coupling_map:\n",
    "        entry = {'couple': couple, 'date': day, 'cx': prop.gate_error(\"cx\", couple)}\n",
    "        df_cx = df_cx.append(entry, ignore_index=True)\n",
    "df_cx = df_cx.astype({'couple': str})"
   ]
  },
  {
   "cell_type": "code",
   "execution_count": null,
   "metadata": {},
   "outputs": [],
   "source": [
    "fig, ax = plt.subplots(figsize = (20,10))\n",
    "sns.boxplot(ax=ax, x=\"couple\", y=\"cx\", data=df_cx)\n",
    "ax.set_ylabel('CNOT error rate')\n",
    "ax.set_ylim(0, 0.065)\n",
    "\n",
    "text = f'({[25,26]} : {0.152071}) was croped from the plot\\nfor a better readability (occured on 2021-03-14).'\n",
    "\n",
    "props = dict(boxstyle='round', facecolor='wheat', alpha=0.2)\n",
    "ax.text(0.73, 0.95, text, transform=ax.transAxes, fontsize=14, verticalalignment='top', bbox=props)\n",
    "\n",
    "fig.tight_layout()\n",
    "plt.xticks(rotation=45)\n",
    "plt.savefig('cx_error_distribution_sydney')"
   ]
  }
 ]
}